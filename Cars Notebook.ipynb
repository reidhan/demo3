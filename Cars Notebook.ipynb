{
    "cells": [
        {
            "metadata": {},
            "cell_type": "code",
            "source": "\nimport ibmos2spark, os\n# @hidden_cell\ncredentials = {\n    'endpoint': 'https://s3.private.us.cloud-object-storage.appdomain.cloud',\n    'service_id': 'iam-ServiceId-fe97a12e-3f06-42d6-8a2e-9c09e2f8d021',\n    'iam_service_endpoint': 'https://iam.cloud.ibm.com/oidc/token',\n    'api_key': 'YIYI2YIefeCoUEbPhQc6PIOmxgWMA7eL7MI036ANSyVr'\n}\n\nconfiguration_name = 'os_975e4e32ae824b3e8b1cc20ff2b258bf_configs'\ncos = ibmos2spark.CloudObjectStorage(sc, credentials, configuration_name, 'bluemix_cos')\n\nfrom pyspark.sql import SparkSession\nspark = SparkSession.builder.getOrCreate()\ndf_data_1 = spark.read\\\n  .format('org.apache.spark.sql.execution.datasources.csv.CSVFileFormat')\\\n  .option('header', 'true')\\\n  .load(cos.url('carsdata.csv', 'testproject-donotdelete-pr-4lvbumzaxs4g93'))\ndf_data_1.take(5)\n",
            "execution_count": 1,
            "outputs": [
                {
                    "output_type": "execute_result",
                    "execution_count": 1,
                    "data": {
                        "text/plain": "[Row(Make='BMW', Model='1 Series M', Year='2011', Engine Fuel Type='premium unleaded (required)', Engine HP='335', Engine Cylinders='6', Transmission Type='MANUAL', Driven_Wheels='rear wheel drive', Number of Doors='2', Market Category='Factory Tuner,Luxury,High-Performance', Vehicle Size='Compact', Vehicle Style='Coupe', highway MPG='26', city mpg='19', Popularity='3916', MSRP='46135'),\n Row(Make='BMW', Model='1 Series', Year='2011', Engine Fuel Type='premium unleaded (required)', Engine HP='300', Engine Cylinders='6', Transmission Type='MANUAL', Driven_Wheels='rear wheel drive', Number of Doors='2', Market Category='Luxury,Performance', Vehicle Size='Compact', Vehicle Style='Convertible', highway MPG='28', city mpg='19', Popularity='3916', MSRP='40650'),\n Row(Make='BMW', Model='1 Series', Year='2011', Engine Fuel Type='premium unleaded (required)', Engine HP='300', Engine Cylinders='6', Transmission Type='MANUAL', Driven_Wheels='rear wheel drive', Number of Doors='2', Market Category='Luxury,High-Performance', Vehicle Size='Compact', Vehicle Style='Coupe', highway MPG='28', city mpg='20', Popularity='3916', MSRP='36350'),\n Row(Make='BMW', Model='1 Series', Year='2011', Engine Fuel Type='premium unleaded (required)', Engine HP='230', Engine Cylinders='6', Transmission Type='MANUAL', Driven_Wheels='rear wheel drive', Number of Doors='2', Market Category='Luxury,Performance', Vehicle Size='Compact', Vehicle Style='Coupe', highway MPG='28', city mpg='18', Popularity='3916', MSRP='29450'),\n Row(Make='BMW', Model='1 Series', Year='2011', Engine Fuel Type='premium unleaded (required)', Engine HP='230', Engine Cylinders='6', Transmission Type='MANUAL', Driven_Wheels='rear wheel drive', Number of Doors='2', Market Category='Luxury', Vehicle Size='Compact', Vehicle Style='Convertible', highway MPG='28', city mpg='18', Popularity='3916', MSRP='34500')]"
                    },
                    "metadata": {}
                }
            ]
        }
    ],
    "metadata": {
        "kernelspec": {
            "name": "python39",
            "display_name": "Python 3.9 with Spark",
            "language": "python3"
        },
        "language_info": {
            "name": "python",
            "version": "3.9.7",
            "mimetype": "text/x-python",
            "codemirror_mode": {
                "name": "ipython",
                "version": 3
            },
            "pygments_lexer": "ipython3",
            "nbconvert_exporter": "python",
            "file_extension": ".py"
        }
    },
    "nbformat": 4,
    "nbformat_minor": 1
}